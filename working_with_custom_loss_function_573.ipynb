{
 "cells": [
  {
   "cell_type": "markdown",
   "metadata": {
    "collapsed": true
   },
   "source": [
    "# Working with Custom Loss Function.\n",
    "This project aims to provide an understanding of how we could use the custom defined loss functions along with TensorFlow 2.\n",
    "\n",
    "Though TensorFlow 2 already provides us with a variety of loss functions, knowing how to use a user-defined loss function would be crucial for a machine learning aspirant because often times in real-world industries, it is expected to experiment with various custom defined functions. This exercise is designed to achieve that goal.\n",
    "\n",
    "Skills you will develop:\n",
    "\n",
    "TensorFlow 2\n",
    "Defining Custom Loss Function\n",
    "Python Programming\n",
    "scikit-learn"
   ]
  },
  {
   "cell_type": "code",
   "execution_count": 24,
   "metadata": {},
   "outputs": [],
   "source": [
    "import tensorflow as tf\n",
    "from tensorflow import keras"
   ]
  },
  {
   "cell_type": "code",
   "execution_count": 25,
   "metadata": {},
   "outputs": [],
   "source": [
    "from sklearn.preprocessing import StandardScaler "
   ]
  },
  {
   "cell_type": "markdown",
   "metadata": {},
   "source": [
    "## Preparing the Dataset\n",
    "Let's start by loading and preparing the California housing dataset.\n",
    "\n",
    "We would:\n",
    "\n",
    "first load the data\n",
    "\n",
    "then split it into a training set, a validation set, and a test set\n",
    "\n",
    "finally, we scale it.\n",
    "\n",
    "Note that this dataset contains only numerical features and there are no missing values.\n",
    "\n",
    "**Note:**\n",
    "\n",
    "* For a feature scaler line `StandardScaler`, `fit` computes the mean and std(standard deviation) to be used for later scaling (just a computation) based on the given data, nothing is given to you. `transform` uses a previously computed mean and std to autoscale the data (subtract mean from all values and then divide it by std). `fit_transform` does both at the same time.\n",
    "\n",
    "* So, we would be applying the `scaler.fit_transform` on the train data, and just apply `scaler.transform` on the validation and test data."
   ]
  },
  {
   "cell_type": "code",
   "execution_count": 26,
   "metadata": {},
   "outputs": [],
   "source": [
    "from sklearn.datasets import fetch_california_housing \n",
    "housing = fetch_california_housing()"
   ]
  },
  {
   "cell_type": "code",
   "execution_count": 27,
   "metadata": {},
   "outputs": [],
   "source": [
    "from sklearn.model_selection import train_test_split\n",
    "X_train_full, X_test, y_train_full, y_test = train_test_split( housing.data,\n",
    "         housing.target.reshape(-1, 1), random_state=42)\n",
    "\n",
    "X_train, X_valid, y_train, y_valid =  train_test_split( X_train_full, \n",
    "        y_train_full, random_state=42)"
   ]
  },
  {
   "cell_type": "code",
   "execution_count": 28,
   "metadata": {},
   "outputs": [],
   "source": [
    "scaler = StandardScaler()"
   ]
  },
  {
   "cell_type": "code",
   "execution_count": 29,
   "metadata": {},
   "outputs": [],
   "source": [
    "X_train_scaled = scaler.fit_transform(X_train)"
   ]
  },
  {
   "cell_type": "code",
   "execution_count": 30,
   "metadata": {},
   "outputs": [],
   "source": [
    "X_valid_scaled = scaler.transform(X_valid)"
   ]
  },
  {
   "cell_type": "code",
   "execution_count": 31,
   "metadata": {},
   "outputs": [],
   "source": [
    "X_test_scaled = scaler.transform(X_test)"
   ]
  },
  {
   "attachments": {
    "image.png": {
     "image/png": "[encoded data removed]"
    }
   },
   "cell_type": "markdown",
   "metadata": {},
   "source": [
    "## Defining a Custom Loss Function - Huber Loss\n",
    "Let's implement huber loss. Huber loss is less sensitive to outliers in data than mean squared error.\n",
    "\n",
    "Below is the formula of huber loss.\n",
    "\n",
    "![image.png](attachment:image.png)"
   ]
  },
  {
   "cell_type": "markdown",
   "metadata": {},
   "source": [
    "**Note:**\n",
    "\n",
    "* Huber loss is defined as:\n",
    "\n",
    "    * error 2/2, if error < delta (ie, if it is a small error)\n",
    "\n",
    "    * delta * ( |error| - delta/2), otherwise ( |error| means the absolute value error)\n",
    "\n",
    "  In this exercise, we consider delta=1.\n",
    "\n",
    "  Thus, the `huber_fn` is defined as:\n",
    "\n",
    "    * *error 2/2*, if *error < 1* (ie, if it is a small error).\n",
    "\n",
    "    * *|error| - 0.5*, otherwise\n",
    "\n",
    "* `tf.abs(x)` returns the positive value(absolute value) of `x`.\n",
    "\n",
    "* `tf.square(x)` returns the squared value of `x`.\n",
    "\n",
    "* `tf.where(bool_array, x, y)` returns the elements where condition is True in `bool_array` (multiplexing `x` and `y`).\n",
    "\n",
    "  In simpler terms, `tf.where` will choose an output shape from the shapes of condition, `x`, and `y` that all three shapes are broadcastable to.\n",
    "\n",
    "  The condition tensor acts as a mask that chooses whether the corresponding element/row in the output should be taken from x (if the element in the condition is `True`) or from `y` (if it is `False`).\n",
    "\n",
    "  For example, upon executing the following,\n",
    "\n",
    " ` tf.where([True, False, False, True], [1,2,3,4], [100,200,300,400])`\n",
    "\n",
    "  the output would be :` <tf.Tensor: shape=(4,), dtype=int32, numpy=array([ 1, 200, 300, 4], dtype=int32)>`"
   ]
  },
  {
   "cell_type": "code",
   "execution_count": 32,
   "metadata": {},
   "outputs": [],
   "source": [
    "  def huber_fn(y_true, y_pred):\n",
    "        error = y_true - y_pred\n",
    "        is_small_error = tf.abs(error) < 1\n",
    "        squared_loss = tf.square(error) / 2\n",
    "        linear_loss  = tf.abs(error) - 0.5\n",
    "        return tf.where(is_small_error, squared_loss, linear_loss)"
   ]
  },
  {
   "cell_type": "markdown",
   "metadata": {},
   "source": [
    "## Building the Network\n",
    "We shall now build the classification network, with a hidden layer(with 30 neurons and `selu` activation function) and an output layer( with 1 neuron since we have to predict only one value).\n",
    "\n",
    "We shall also specify the loss function we have defined - the `huber_fn` and the optimizer to use, while compiling.\n",
    "\n",
    "**Note:**\n",
    "\n",
    "`kernel_initializer` defines the way to set the initial random weights of Keras layers."
   ]
  },
  {
   "cell_type": "code",
   "execution_count": 33,
   "metadata": {},
   "outputs": [],
   "source": [
    "model = keras.models.Sequential([\n",
    "    keras.layers.Dense(30, activation=\"selu\", \n",
    "       kernel_initializer=\"lecun_normal\", \n",
    "       input_shape=X_train.shape[1:]),\n",
    "    keras.layers.Dense(1),\n",
    "])"
   ]
  },
  {
   "cell_type": "code",
   "execution_count": 34,
   "metadata": {},
   "outputs": [],
   "source": [
    "model.compile(loss=huber_fn, optimizer=\"nadam\", metrics=[\"mae\"])"
   ]
  },
  {
   "cell_type": "markdown",
   "metadata": {},
   "source": [
    "## Training the Model"
   ]
  },
  {
   "cell_type": "code",
   "execution_count": 35,
   "metadata": {},
   "outputs": [
    {
     "name": "stdout",
     "output_type": "stream",
     "text": [
      "Train on 11610 samples, validate on 3870 samples\n",
      "Epoch 1/15\n",
      "11610/11610 [==============================] - 2s 134us/sample - loss: 0.5908 - mae: 0.9388 - val_loss: 0.2363 - val_mae: 0.5260\n",
      "Epoch 2/15\n",
      "11610/11610 [==============================] - 1s 64us/sample - loss: 0.2072 - mae: 0.4988 - val_loss: 0.1939 - val_mae: 0.4767\n",
      "Epoch 3/15\n",
      "11610/11610 [==============================] - 1s 66us/sample - loss: 0.1984 - mae: 0.4861 - val_loss: 0.2134 - val_mae: 0.4945\n",
      "Epoch 4/15\n",
      "11610/11610 [==============================] - 1s 66us/sample - loss: 0.1948 - mae: 0.4799 - val_loss: 0.1859 - val_mae: 0.4643\n",
      "Epoch 5/15\n",
      "11610/11610 [==============================] - 1s 66us/sample - loss: 0.1912 - mae: 0.4748 - val_loss: 0.1733 - val_mae: 0.4464\n",
      "Epoch 6/15\n",
      "11610/11610 [==============================] - 1s 65us/sample - loss: 0.1874 - mae: 0.4688 - val_loss: 0.1832 - val_mae: 0.4597\n",
      "Epoch 7/15\n",
      "11610/11610 [==============================] - 1s 63us/sample - loss: 0.1837 - mae: 0.4622 - val_loss: 0.1919 - val_mae: 0.4677\n",
      "Epoch 8/15\n",
      "11610/11610 [==============================] - 1s 64us/sample - loss: 0.1815 - mae: 0.4598 - val_loss: 0.1774 - val_mae: 0.4481\n",
      "Epoch 9/15\n",
      "11610/11610 [==============================] - 1s 66us/sample - loss: 0.1789 - mae: 0.4549 - val_loss: 0.1778 - val_mae: 0.4495\n",
      "Epoch 10/15\n",
      "11610/11610 [==============================] - 1s 63us/sample - loss: 0.1760 - mae: 0.4497 - val_loss: 0.1868 - val_mae: 0.4524\n",
      "Epoch 11/15\n",
      "11610/11610 [==============================] - 1s 67us/sample - loss: 0.1748 - mae: 0.4480 - val_loss: 0.1633 - val_mae: 0.4310\n",
      "Epoch 12/15\n",
      "11610/11610 [==============================] - 1s 64us/sample - loss: 0.1716 - mae: 0.4431 - val_loss: 0.1901 - val_mae: 0.4576\n",
      "Epoch 13/15\n",
      "11610/11610 [==============================] - 1s 63us/sample - loss: 0.1718 - mae: 0.4433 - val_loss: 0.1686 - val_mae: 0.4353\n",
      "Epoch 14/15\n",
      "11610/11610 [==============================] - 1s 63us/sample - loss: 0.1695 - mae: 0.4396 - val_loss: 0.1587 - val_mae: 0.4214\n",
      "Epoch 15/15\n",
      "11610/11610 [==============================] - 1s 63us/sample - loss: 0.1679 - mae: 0.4369 - val_loss: 0.1866 - val_mae: 0.4525\n"
     ]
    },
    {
     "data": {
      "text/plain": [
       "<tensorflow.python.keras.callbacks.History at 0x7f64547f4908>"
      ]
     },
     "execution_count": 35,
     "metadata": {},
     "output_type": "execute_result"
    }
   ],
   "source": [
    "model.fit(X_train_scaled, y_train, epochs=15,\n",
    "  validation_data=(X_valid_scaled, y_valid))"
   ]
  },
  {
   "cell_type": "markdown",
   "metadata": {},
   "source": [
    "## Evaluating the Model Performance"
   ]
  },
  {
   "cell_type": "code",
   "execution_count": 36,
   "metadata": {},
   "outputs": [
    {
     "name": "stdout",
     "output_type": "stream",
     "text": [
      "5160/5160 [==============================] - 0s 32us/sample - loss: 0.1688 - mae: 0.4373\n"
     ]
    },
    {
     "data": {
      "text/plain": [
       "[0.16879631204660547, 0.43733025]"
      ]
     },
     "execution_count": 36,
     "metadata": {},
     "output_type": "execute_result"
    }
   ],
   "source": [
    "model.evaluate(X_test_scaled, y_test)"
   ]
  },
  {
   "cell_type": "markdown",
   "metadata": {},
   "source": [
    "Observe the values of loss and mae. These values are nearly the same as those of the train and validation datasets. Also, the values are low. Hence our model hasn't been overfitted and is giving a decent performance."
   ]
  },
  {
   "cell_type": "code",
   "execution_count": null,
   "metadata": {},
   "outputs": [],
   "source": []
  }
 ],
 "metadata": {
  "kernelspec": {
   "display_name": "tensorflow2",
   "language": "python",
   "name": "tensorflow2"
  },
  "language_info": {
   "codemirror_mode": {
    "name": "ipython",
    "version": 3
   },
   "file_extension": ".py",
   "mimetype": "text/x-python",
   "name": "python",
   "nbconvert_exporter": "python",
   "pygments_lexer": "ipython3",
   "version": "3.6.8"
  },
  "toc": {
   "base_numbering": 1,
   "nav_menu": {},
   "number_sections": true,
   "sideBar": true,
   "skip_h1_title": false,
   "title_cell": "Table of Contents",
   "title_sidebar": "Contents",
   "toc_cell": false,
   "toc_position": {},
   "toc_section_display": true,
   "toc_window_display": false
  }
 },
 "nbformat": 4,
 "nbformat_minor": 2
}
